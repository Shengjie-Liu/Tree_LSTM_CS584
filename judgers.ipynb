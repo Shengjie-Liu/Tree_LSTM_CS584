{
 "cells": [
  {
   "cell_type": "markdown",
   "metadata": {},
   "source": [
    "# Sentiment Judgers"
   ]
  },
  {
   "cell_type": "markdown",
   "metadata": {},
   "source": [
    "## There are three of them: \n",
    "\n",
    "1) IBM Watson Analyzer;\n",
    "2) VADER's Sentiment Analyzer;\n",
    "3) TextBlob;"
   ]
  },
  {
   "cell_type": "code",
   "execution_count": 3,
   "metadata": {},
   "outputs": [],
   "source": [
    "import json\n",
    "# IBM WATSON\n",
    "from ibm_watson import NaturalLanguageUnderstandingV1\n",
    "from ibm_cloud_sdk_core.authenticators import IAMAuthenticator\n",
    "from ibm_watson.natural_language_understanding_v1 import Features, EntitiesOptions, KeywordsOptions, SentimentOptions\n",
    "# Authentication via IAM\n",
    "IBM_API = \"8XPGR4_gBFZ8LdY3xLQ1Hw8-Kmlk5oGlVu0u13u_9Xou\"\n",
    "IBM_URL = \"https://api.us-east.natural-language-understanding.watson.cloud.ibm.com/instances/e985b0a9-3a3c-45cf-98a0-96fba5ef2ff5\"\n",
    "service = NaturalLanguageUnderstandingV1(version = '2018-03-16', authenticator = IAMAuthenticator(IBM_API))\n",
    "service.set_service_url(IBM_URL)\n",
    "# TEXT BLOB\n",
    "from textblob import TextBlob\n",
    "# VADER\n",
    "import nltk\n",
    "from nltk.sentiment.vader import SentimentIntensityAnalyzer\n",
    "# stanford nlp\n",
    "from pycorenlp import StanfordCoreNLP\n",
    "nlp = StanfordCoreNLP('http://localhost:9000')\n"
   ]
  },
  {
   "cell_type": "code",
   "execution_count": 34,
   "metadata": {},
   "outputs": [],
   "source": [
    "def get_IBM_score(sentence):\n",
    "    try:\n",
    "        response = service.analyze(text = sentence, features = Features(sentiment=SentimentOptions())).get_result()\n",
    "        return response[\"sentiment\"]['document']['label']\n",
    "    except:\n",
    "        return 'neutral'\n",
    "#         raise\n",
    "\n",
    "def get_textBlob_score(sent):\n",
    "    try:\n",
    "        polarity = TextBlob(sent).sentiment.polarity\n",
    "        if polarity >= - 1 and polarity <= -0.1:\n",
    "            return 'negative'\n",
    "        elif polarity > -0.1 and polarity <= 0.1:\n",
    "            return 'neutral'\n",
    "        else:\n",
    "            return 'positive'\n",
    "    except:\n",
    "        print(sent)\n",
    "        return 'neutral'\n",
    "        \n",
    "def get_vader_score(sent):\n",
    "    sid = SentimentIntensityAnalyzer()\n",
    "    try:\n",
    "        ss = sid.polarity_scores(sent)\n",
    "        polarity = ss['compound']\n",
    "        if polarity >= - 1 and polarity <= -0.1:\n",
    "            return 'negative'\n",
    "        elif polarity > -0.1 and polarity <= 0.1:\n",
    "            return 'neutral'\n",
    "        else:\n",
    "            return 'positive'\n",
    "    except:\n",
    "        return 'neutral'\n",
    "\n",
    "def get_stanford_score(sent):\n",
    "    \n",
    "    try:\n",
    "        res = nlp.annotate(sent,\n",
    "                       properties={\n",
    "                           'annotators': 'sentiment',\n",
    "                           'outputFormat': 'json',\n",
    "                           'timeout': 10000,\n",
    "                       })\n",
    "        print(res)\n",
    "        return res[\"sentences\"][0]['sentiment']\n",
    "    \n",
    "    except:\n",
    "        \n",
    "        print(sent)\n",
    "        \n",
    "        return 'neutral'\n",
    "        "
   ]
  }
 ],
 "metadata": {
  "kernelspec": {
   "display_name": "Python 3",
   "language": "python",
   "name": "python3"
  },
  "language_info": {
   "codemirror_mode": {
    "name": "ipython",
    "version": 3
   },
   "file_extension": ".py",
   "mimetype": "text/x-python",
   "name": "python",
   "nbconvert_exporter": "python",
   "pygments_lexer": "ipython3",
   "version": "3.7.4"
  }
 },
 "nbformat": 4,
 "nbformat_minor": 4
}
